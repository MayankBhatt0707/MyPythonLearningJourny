{
 "cells": [
  {
   "cell_type": "code",
   "execution_count": 1,
   "id": "26d91be0",
   "metadata": {},
   "outputs": [],
   "source": [
    "# Remember the format() function we used in the last video?? Now pass 145 and ‘o’ in the function and see what it returns. Try to find out which representation it is.\n",
    "# There is a circular pond in a village. This pond has a radius of 84 meters. Can you find the area of the pond? (Bonus: If there is exactly 1.4 liter of water in a square meter, what is the total amount of water in the pond?)\n",
    "# If you cross a 490-meter-long street in 7 minutes, then what is your speed in meters per second? Print your answer without any decimal point in it."
   ]
  },
  {
   "cell_type": "code",
   "execution_count": 23,
   "id": "3f4f889a",
   "metadata": {},
   "outputs": [
    {
     "data": {
      "text/plain": [
       "'221'"
      ]
     },
     "execution_count": 23,
     "metadata": {},
     "output_type": "execute_result"
    }
   ],
   "source": [
    "format(145, 'o')"
   ]
  },
  {
   "cell_type": "code",
   "execution_count": 11,
   "id": "32eff3a2",
   "metadata": {},
   "outputs": [
    {
     "data": {
      "text/plain": [
       "22155.84"
      ]
     },
     "execution_count": 11,
     "metadata": {},
     "output_type": "execute_result"
    }
   ],
   "source": [
    "radius = 84\n",
    "area = 3.14 * 84**2\n",
    "area"
   ]
  },
  {
   "cell_type": "code",
   "execution_count": 13,
   "id": "22fff8d6",
   "metadata": {},
   "outputs": [
    {
     "data": {
      "text/plain": [
       "31018.176"
      ]
     },
     "execution_count": 13,
     "metadata": {},
     "output_type": "execute_result"
    }
   ],
   "source": [
    "water = 1.4\n",
    "\n",
    "total_water = 22155.84 * 1.4\n",
    "total_water"
   ]
  },
  {
   "cell_type": "code",
   "execution_count": 19,
   "id": "e0acedf1",
   "metadata": {},
   "outputs": [],
   "source": [
    "d = 490\n",
    "t = 7 * 60"
   ]
  },
  {
   "cell_type": "code",
   "execution_count": 21,
   "id": "357d99cf",
   "metadata": {},
   "outputs": [
    {
     "data": {
      "text/plain": [
       "1.1666666666666667"
      ]
     },
     "execution_count": 21,
     "metadata": {},
     "output_type": "execute_result"
    }
   ],
   "source": [
    "s = d/t\n",
    "s"
   ]
  },
  {
   "cell_type": "code",
   "execution_count": null,
   "id": "1e8dc144",
   "metadata": {},
   "outputs": [],
   "source": []
  }
 ],
 "metadata": {
  "kernelspec": {
   "display_name": "Python 3 (ipykernel)",
   "language": "python",
   "name": "python3"
  },
  "language_info": {
   "codemirror_mode": {
    "name": "ipython",
    "version": 3
   },
   "file_extension": ".py",
   "mimetype": "text/x-python",
   "name": "python",
   "nbconvert_exporter": "python",
   "pygments_lexer": "ipython3",
   "version": "3.10.5"
  }
 },
 "nbformat": 4,
 "nbformat_minor": 5
}
