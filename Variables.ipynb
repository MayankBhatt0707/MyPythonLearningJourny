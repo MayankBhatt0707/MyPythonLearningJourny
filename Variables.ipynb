{
 "cells": [
  {
   "cell_type": "code",
   "execution_count": 1,
   "id": "53507ccc",
   "metadata": {},
   "outputs": [],
   "source": [
    "#Create a variable named pi and store the value 22/7 in it. Now check the data type of this variable.\n",
    "#Create a variable called for and assign it a value 4. See what happens and find out the reason behind the behavior that you see**.**\n",
    "#Store the principal amount, rate of interest, and time in different variables and then calculate the Simple Interest for 3 years**.**\n",
    "\n",
    "pi = 22/7\n"
   ]
  },
  {
   "cell_type": "code",
   "execution_count": 2,
   "id": "f61973b8",
   "metadata": {},
   "outputs": [
    {
     "data": {
      "text/plain": [
       "float"
      ]
     },
     "execution_count": 2,
     "metadata": {},
     "output_type": "execute_result"
    }
   ],
   "source": [
    "type(pi)"
   ]
  },
  {
   "cell_type": "code",
   "execution_count": 9,
   "id": "a41d5697",
   "metadata": {},
   "outputs": [],
   "source": [
    "#for = 4"
   ]
  },
  {
   "cell_type": "code",
   "execution_count": 10,
   "id": "2dbdecd9",
   "metadata": {},
   "outputs": [],
   "source": [
    "## for is a reserved keyword in python\n"
   ]
  },
  {
   "cell_type": "code",
   "execution_count": 14,
   "id": "3e4c7c95",
   "metadata": {},
   "outputs": [
    {
     "data": {
      "text/plain": [
       "318.0"
      ]
     },
     "execution_count": 14,
     "metadata": {},
     "output_type": "execute_result"
    }
   ],
   "source": [
    "p= 1000\n",
    "roi = 10.6\n",
    "time = 3 \n",
    "\n",
    "SI = (p*roi*time)/100\n",
    "SI"
   ]
  },
  {
   "cell_type": "code",
   "execution_count": null,
   "id": "40b1db40",
   "metadata": {},
   "outputs": [],
   "source": []
  }
 ],
 "metadata": {
  "kernelspec": {
   "display_name": "Python 3 (ipykernel)",
   "language": "python",
   "name": "python3"
  },
  "language_info": {
   "codemirror_mode": {
    "name": "ipython",
    "version": 3
   },
   "file_extension": ".py",
   "mimetype": "text/x-python",
   "name": "python",
   "nbconvert_exporter": "python",
   "pygments_lexer": "ipython3",
   "version": "3.10.5"
  }
 },
 "nbformat": 4,
 "nbformat_minor": 5
}
