{
 "cells": [
  {
   "cell_type": "code",
   "execution_count": 6,
   "id": "ef4842e7",
   "metadata": {},
   "outputs": [
    {
     "name": "stdout",
     "output_type": "stream",
     "text": [
      "Mayank Bhatt\n"
     ]
    }
   ],
   "source": [
    "class Programmer:\n",
    "    Company = \"Microsoft\"\n",
    "    def __init__(self, name, salary):\n",
    "        self.name = name\n",
    "        self.salary = salary\n",
    "Mayank = Programmer(\"Mayank Bhatt\", 100000)  \n",
    "\n",
    "print(Mayank.name)"
   ]
  },
  {
   "cell_type": "code",
   "execution_count": 19,
   "id": "3919edb5",
   "metadata": {},
   "outputs": [
    {
     "name": "stdout",
     "output_type": "stream",
     "text": [
      "Hello!\n",
      "36\n",
      "216\n",
      "2.449489742783178\n"
     ]
    }
   ],
   "source": [
    "import numpy as p\n",
    "class Calculator:\n",
    "    def square(self):\n",
    "        return self * self\n",
    "    def cube(self):\n",
    "        return self * self * self\n",
    "    def squareRoot(self):\n",
    "        return p.sqrt(self)\n",
    "    @staticmethod\n",
    "    def greet():\n",
    "        return f\"Hello!\"\n",
    "print(Calculator.greet())\n",
    "print(Calculator.square(6))\n",
    "print(Calculator.cube(6))\n",
    "print(Calculator.squareRoot(6))"
   ]
  },
  {
   "cell_type": "code",
   "execution_count": 18,
   "id": "efa903e2",
   "metadata": {},
   "outputs": [
    {
     "name": "stdout",
     "output_type": "stream",
     "text": [
      "0\n"
     ]
    }
   ],
   "source": [
    "class Object:\n",
    "    a = 10\n",
    "Object.a = 0\n",
    "print(Object.a)"
   ]
  },
  {
   "cell_type": "code",
   "execution_count": 23,
   "id": "08f5d8fb",
   "metadata": {},
   "outputs": [
    {
     "name": "stdout",
     "output_type": "stream",
     "text": [
      "Hawkeye is a M years old 30 with super power -> Fighting Skills and weapon -> Bow & Arrows\n",
      "Captain America is a Captain\n"
     ]
    }
   ],
   "source": [
    "class SuperHeros:\n",
    "    def __init__(self, name, age, gender, super_power, weapon):\n",
    "        self.name = name\n",
    "        self.age = age\n",
    "        self.gender = gender\n",
    "        self.super_power = super_power\n",
    "        self.weapon = weapon\n",
    "    def getInfo(self):\n",
    "        return (f\"{self.name} is a {self.gender} years old {self.age} with super power -> {self.super_power} and weapon -> {self.weapon}\")\n",
    "    def isCaptain(self):\n",
    "        if self.name == \"Captain America\":\n",
    "            return (f\"{self.name} is a Captain\")\n",
    "        else:\n",
    "            return (f\"{self.name} is not a Captain\")\n",
    "\n",
    "CaptainAmerica = SuperHeros(\"Captain America\", 28, \"M\", \"Super Strength\", \"Shield\")\n",
    "IronMan = SuperHeros(\"Iron Man\", 28, \"M\", \"Technology\", \"Armor\")\n",
    "BlackWidow = SuperHeros(\"Black Widow\", 28, \"F\", \"Super Human\", \"Batton\")\n",
    "Hulk = SuperHeros(\"Hulk\", 29, \"M\", \"Unlimited Strength\", \"No Weapon\")\n",
    "Thor = SuperHeros(\"Thor\", \"M\", 300, \"Energy\", \"Mjolnir\")\n",
    "HawkEye = SuperHeros(\"Hawkeye\", 30, \"M\", \"Fighting Skills\", \"Bow & Arrows\")\n",
    "\n",
    "print(HawkEye.getInfo())\n",
    "print(CaptainAmerica.isCaptain())"
   ]
  },
  {
   "cell_type": "code",
   "execution_count": null,
   "id": "e521d619",
   "metadata": {},
   "outputs": [],
   "source": []
  },
  {
   "cell_type": "code",
   "execution_count": null,
   "id": "ee400b94",
   "metadata": {},
   "outputs": [],
   "source": []
  }
 ],
 "metadata": {
  "kernelspec": {
   "display_name": "Python 3 (ipykernel)",
   "language": "python",
   "name": "python3"
  },
  "language_info": {
   "codemirror_mode": {
    "name": "ipython",
    "version": 3
   },
   "file_extension": ".py",
   "mimetype": "text/x-python",
   "name": "python",
   "nbconvert_exporter": "python",
   "pygments_lexer": "ipython3",
   "version": "3.10.5"
  }
 },
 "nbformat": 4,
 "nbformat_minor": 5
}
