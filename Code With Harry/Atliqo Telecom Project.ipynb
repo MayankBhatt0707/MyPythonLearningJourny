{
 "cells": [
  {
   "cell_type": "markdown",
   "id": "a2762876",
   "metadata": {},
   "source": [
    "# Atliqo Telecom Project\n",
    "\n"
   ]
  },
  {
   "cell_type": "code",
   "execution_count": 2,
   "id": "dee5aa78",
   "metadata": {},
   "outputs": [],
   "source": [
    "import pandas as pd"
   ]
  },
  {
   "cell_type": "markdown",
   "id": "5f3b92b8",
   "metadata": {},
   "source": [
    "Loading table \"dim_cities\" to dataframe..."
   ]
  },
  {
   "cell_type": "code",
   "execution_count": 3,
   "id": "feaa433c",
   "metadata": {},
   "outputs": [
    {
     "data": {
      "text/html": [
       "<div>\n",
       "<style scoped>\n",
       "    .dataframe tbody tr th:only-of-type {\n",
       "        vertical-align: middle;\n",
       "    }\n",
       "\n",
       "    .dataframe tbody tr th {\n",
       "        vertical-align: top;\n",
       "    }\n",
       "\n",
       "    .dataframe thead th {\n",
       "        text-align: right;\n",
       "    }\n",
       "</style>\n",
       "<table border=\"1\" class=\"dataframe\">\n",
       "  <thead>\n",
       "    <tr style=\"text-align: right;\">\n",
       "      <th></th>\n",
       "      <th>city_code</th>\n",
       "      <th>city_name</th>\n",
       "    </tr>\n",
       "  </thead>\n",
       "  <tbody>\n",
       "    <tr>\n",
       "      <th>0</th>\n",
       "      <td>400001</td>\n",
       "      <td>Mumbai</td>\n",
       "    </tr>\n",
       "    <tr>\n",
       "      <th>1</th>\n",
       "      <td>110001</td>\n",
       "      <td>Delhi</td>\n",
       "    </tr>\n",
       "    <tr>\n",
       "      <th>2</th>\n",
       "      <td>700001</td>\n",
       "      <td>Kolkata</td>\n",
       "    </tr>\n",
       "    <tr>\n",
       "      <th>3</th>\n",
       "      <td>560001</td>\n",
       "      <td>Bangalore</td>\n",
       "    </tr>\n",
       "    <tr>\n",
       "      <th>4</th>\n",
       "      <td>600001</td>\n",
       "      <td>Chennai</td>\n",
       "    </tr>\n",
       "    <tr>\n",
       "      <th>5</th>\n",
       "      <td>500001</td>\n",
       "      <td>Hyderabad</td>\n",
       "    </tr>\n",
       "    <tr>\n",
       "      <th>6</th>\n",
       "      <td>411001</td>\n",
       "      <td>Pune</td>\n",
       "    </tr>\n",
       "    <tr>\n",
       "      <th>7</th>\n",
       "      <td>380001</td>\n",
       "      <td>Ahmedabad</td>\n",
       "    </tr>\n",
       "    <tr>\n",
       "      <th>8</th>\n",
       "      <td>302001</td>\n",
       "      <td>Jaipur</td>\n",
       "    </tr>\n",
       "    <tr>\n",
       "      <th>9</th>\n",
       "      <td>226001</td>\n",
       "      <td>Lucknow</td>\n",
       "    </tr>\n",
       "    <tr>\n",
       "      <th>10</th>\n",
       "      <td>800008</td>\n",
       "      <td>Patna</td>\n",
       "    </tr>\n",
       "    <tr>\n",
       "      <th>11</th>\n",
       "      <td>641001</td>\n",
       "      <td>Coimbatore</td>\n",
       "    </tr>\n",
       "    <tr>\n",
       "      <th>12</th>\n",
       "      <td>160017</td>\n",
       "      <td>Chandigarh</td>\n",
       "    </tr>\n",
       "    <tr>\n",
       "      <th>13</th>\n",
       "      <td>122001</td>\n",
       "      <td>Gurgaon</td>\n",
       "    </tr>\n",
       "    <tr>\n",
       "      <th>14</th>\n",
       "      <td>492001</td>\n",
       "      <td>Raipur</td>\n",
       "    </tr>\n",
       "  </tbody>\n",
       "</table>\n",
       "</div>"
      ],
      "text/plain": [
       "    city_code   city_name\n",
       "0      400001      Mumbai\n",
       "1      110001       Delhi\n",
       "2      700001     Kolkata\n",
       "3      560001   Bangalore\n",
       "4      600001     Chennai\n",
       "5      500001   Hyderabad\n",
       "6      411001        Pune\n",
       "7      380001   Ahmedabad\n",
       "8      302001      Jaipur\n",
       "9      226001     Lucknow\n",
       "10     800008       Patna\n",
       "11     641001  Coimbatore\n",
       "12     160017  Chandigarh\n",
       "13     122001     Gurgaon\n",
       "14     492001      Raipur"
      ]
     },
     "execution_count": 3,
     "metadata": {},
     "output_type": "execute_result"
    }
   ],
   "source": [
    "dim_cities = pd.read_csv(\"C:\\\\Users\\\\m9wrc\\\\OneDrive\\\\Desktop\\\\Telecom Project AtliQ\\\\Imp\\\\dim_cities.csv\") \n",
    "dim_cities"
   ]
  },
  {
   "cell_type": "markdown",
   "id": "cd3327da",
   "metadata": {},
   "source": [
    "Loading table \"dim_date\" to dataframe..."
   ]
  },
  {
   "cell_type": "code",
   "execution_count": 4,
   "id": "f9274eb8",
   "metadata": {},
   "outputs": [
    {
     "data": {
      "text/html": [
       "<div>\n",
       "<style scoped>\n",
       "    .dataframe tbody tr th:only-of-type {\n",
       "        vertical-align: middle;\n",
       "    }\n",
       "\n",
       "    .dataframe tbody tr th {\n",
       "        vertical-align: top;\n",
       "    }\n",
       "\n",
       "    .dataframe thead th {\n",
       "        text-align: right;\n",
       "    }\n",
       "</style>\n",
       "<table border=\"1\" class=\"dataframe\">\n",
       "  <thead>\n",
       "    <tr style=\"text-align: right;\">\n",
       "      <th></th>\n",
       "      <th>date</th>\n",
       "      <th>month_name</th>\n",
       "      <th>before/after_5g</th>\n",
       "      <th>time_period</th>\n",
       "    </tr>\n",
       "  </thead>\n",
       "  <tbody>\n",
       "    <tr>\n",
       "      <th>0</th>\n",
       "      <td>01-Jan-22</td>\n",
       "      <td>Jan</td>\n",
       "      <td>Before 5G</td>\n",
       "      <td>1</td>\n",
       "    </tr>\n",
       "    <tr>\n",
       "      <th>1</th>\n",
       "      <td>01-Feb-22</td>\n",
       "      <td>Feb</td>\n",
       "      <td>Before 5G</td>\n",
       "      <td>2</td>\n",
       "    </tr>\n",
       "    <tr>\n",
       "      <th>2</th>\n",
       "      <td>01-Mar-22</td>\n",
       "      <td>Mar</td>\n",
       "      <td>Before 5G</td>\n",
       "      <td>3</td>\n",
       "    </tr>\n",
       "    <tr>\n",
       "      <th>3</th>\n",
       "      <td>01-Apr-22</td>\n",
       "      <td>Apr</td>\n",
       "      <td>Before 5G</td>\n",
       "      <td>4</td>\n",
       "    </tr>\n",
       "    <tr>\n",
       "      <th>4</th>\n",
       "      <td>01-Jun-22</td>\n",
       "      <td>Jun</td>\n",
       "      <td>After 5G</td>\n",
       "      <td>1</td>\n",
       "    </tr>\n",
       "    <tr>\n",
       "      <th>5</th>\n",
       "      <td>01-Jul-22</td>\n",
       "      <td>Jul</td>\n",
       "      <td>After 5G</td>\n",
       "      <td>2</td>\n",
       "    </tr>\n",
       "    <tr>\n",
       "      <th>6</th>\n",
       "      <td>01-Aug-22</td>\n",
       "      <td>Aug</td>\n",
       "      <td>After 5G</td>\n",
       "      <td>3</td>\n",
       "    </tr>\n",
       "    <tr>\n",
       "      <th>7</th>\n",
       "      <td>01-Sep-22</td>\n",
       "      <td>Sep</td>\n",
       "      <td>After 5G</td>\n",
       "      <td>4</td>\n",
       "    </tr>\n",
       "  </tbody>\n",
       "</table>\n",
       "</div>"
      ],
      "text/plain": [
       "        date month_name before/after_5g  time_period\n",
       "0  01-Jan-22        Jan       Before 5G            1\n",
       "1  01-Feb-22        Feb       Before 5G            2\n",
       "2  01-Mar-22        Mar       Before 5G            3\n",
       "3  01-Apr-22        Apr       Before 5G            4\n",
       "4  01-Jun-22        Jun        After 5G            1\n",
       "5  01-Jul-22        Jul        After 5G            2\n",
       "6  01-Aug-22        Aug        After 5G            3\n",
       "7  01-Sep-22        Sep        After 5G            4"
      ]
     },
     "execution_count": 4,
     "metadata": {},
     "output_type": "execute_result"
    }
   ],
   "source": [
    "dim_date = pd.read_csv(\"C:\\\\Users\\\\m9wrc\\\\OneDrive\\\\Desktop\\\\Telecom Project AtliQ\\\\Imp\\\\dim_date.csv\")\n",
    "dim_date"
   ]
  },
  {
   "cell_type": "markdown",
   "id": "979abebc",
   "metadata": {},
   "source": [
    "Changing Index to Date field"
   ]
  },
  {
   "cell_type": "code",
   "execution_count": 5,
   "id": "0754e149",
   "metadata": {},
   "outputs": [
    {
     "data": {
      "text/html": [
       "<div>\n",
       "<style scoped>\n",
       "    .dataframe tbody tr th:only-of-type {\n",
       "        vertical-align: middle;\n",
       "    }\n",
       "\n",
       "    .dataframe tbody tr th {\n",
       "        vertical-align: top;\n",
       "    }\n",
       "\n",
       "    .dataframe thead th {\n",
       "        text-align: right;\n",
       "    }\n",
       "</style>\n",
       "<table border=\"1\" class=\"dataframe\">\n",
       "  <thead>\n",
       "    <tr style=\"text-align: right;\">\n",
       "      <th></th>\n",
       "      <th>month_name</th>\n",
       "      <th>before/after_5g</th>\n",
       "      <th>time_period</th>\n",
       "    </tr>\n",
       "    <tr>\n",
       "      <th>date</th>\n",
       "      <th></th>\n",
       "      <th></th>\n",
       "      <th></th>\n",
       "    </tr>\n",
       "  </thead>\n",
       "  <tbody>\n",
       "    <tr>\n",
       "      <th>01-Jan-22</th>\n",
       "      <td>Jan</td>\n",
       "      <td>Before 5G</td>\n",
       "      <td>1</td>\n",
       "    </tr>\n",
       "    <tr>\n",
       "      <th>01-Feb-22</th>\n",
       "      <td>Feb</td>\n",
       "      <td>Before 5G</td>\n",
       "      <td>2</td>\n",
       "    </tr>\n",
       "    <tr>\n",
       "      <th>01-Mar-22</th>\n",
       "      <td>Mar</td>\n",
       "      <td>Before 5G</td>\n",
       "      <td>3</td>\n",
       "    </tr>\n",
       "    <tr>\n",
       "      <th>01-Apr-22</th>\n",
       "      <td>Apr</td>\n",
       "      <td>Before 5G</td>\n",
       "      <td>4</td>\n",
       "    </tr>\n",
       "    <tr>\n",
       "      <th>01-Jun-22</th>\n",
       "      <td>Jun</td>\n",
       "      <td>After 5G</td>\n",
       "      <td>1</td>\n",
       "    </tr>\n",
       "    <tr>\n",
       "      <th>01-Jul-22</th>\n",
       "      <td>Jul</td>\n",
       "      <td>After 5G</td>\n",
       "      <td>2</td>\n",
       "    </tr>\n",
       "    <tr>\n",
       "      <th>01-Aug-22</th>\n",
       "      <td>Aug</td>\n",
       "      <td>After 5G</td>\n",
       "      <td>3</td>\n",
       "    </tr>\n",
       "    <tr>\n",
       "      <th>01-Sep-22</th>\n",
       "      <td>Sep</td>\n",
       "      <td>After 5G</td>\n",
       "      <td>4</td>\n",
       "    </tr>\n",
       "  </tbody>\n",
       "</table>\n",
       "</div>"
      ],
      "text/plain": [
       "          month_name before/after_5g  time_period\n",
       "date                                             \n",
       "01-Jan-22        Jan       Before 5G            1\n",
       "01-Feb-22        Feb       Before 5G            2\n",
       "01-Mar-22        Mar       Before 5G            3\n",
       "01-Apr-22        Apr       Before 5G            4\n",
       "01-Jun-22        Jun        After 5G            1\n",
       "01-Jul-22        Jul        After 5G            2\n",
       "01-Aug-22        Aug        After 5G            3\n",
       "01-Sep-22        Sep        After 5G            4"
      ]
     },
     "execution_count": 5,
     "metadata": {},
     "output_type": "execute_result"
    }
   ],
   "source": [
    "dim_date.set_index(\"date\")"
   ]
  },
  {
   "cell_type": "code",
   "execution_count": 6,
   "id": "7d6b0935",
   "metadata": {},
   "outputs": [
    {
     "data": {
      "text/plain": [
       "count             8\n",
       "unique            8\n",
       "top       01-Jan-22\n",
       "freq              1\n",
       "Name: date, dtype: object"
      ]
     },
     "execution_count": 6,
     "metadata": {},
     "output_type": "execute_result"
    }
   ],
   "source": [
    "dim_date.date.describe()"
   ]
  },
  {
   "cell_type": "markdown",
   "id": "a28aaae3",
   "metadata": {},
   "source": [
    "Changing Type of \"date\" to datetime"
   ]
  },
  {
   "cell_type": "code",
   "execution_count": 7,
   "id": "ac0081f9",
   "metadata": {},
   "outputs": [],
   "source": [
    "from datetime import datetime\n",
    "dim_date[\"date\"] = pd.to_datetime(dim_date[\"date\"])"
   ]
  },
  {
   "cell_type": "code",
   "execution_count": 8,
   "id": "e8de41da",
   "metadata": {},
   "outputs": [
    {
     "name": "stdout",
     "output_type": "stream",
     "text": [
      "<class 'pandas.core.frame.DataFrame'>\n",
      "RangeIndex: 8 entries, 0 to 7\n",
      "Data columns (total 4 columns):\n",
      " #   Column           Non-Null Count  Dtype         \n",
      "---  ------           --------------  -----         \n",
      " 0   date             8 non-null      datetime64[ns]\n",
      " 1   month_name       8 non-null      object        \n",
      " 2   before/after_5g  8 non-null      object        \n",
      " 3   time_period      8 non-null      int64         \n",
      "dtypes: datetime64[ns](1), int64(1), object(2)\n",
      "memory usage: 384.0+ bytes\n"
     ]
    }
   ],
   "source": [
    "dim_date.info()"
   ]
  },
  {
   "cell_type": "markdown",
   "id": "55bb4d46",
   "metadata": {},
   "source": [
    "Loading table \"dim_plan\" to dataframe..."
   ]
  },
  {
   "cell_type": "code",
   "execution_count": 9,
   "id": "693fd294",
   "metadata": {},
   "outputs": [
    {
     "data": {
      "text/html": [
       "<div>\n",
       "<style scoped>\n",
       "    .dataframe tbody tr th:only-of-type {\n",
       "        vertical-align: middle;\n",
       "    }\n",
       "\n",
       "    .dataframe tbody tr th {\n",
       "        vertical-align: top;\n",
       "    }\n",
       "\n",
       "    .dataframe thead th {\n",
       "        text-align: right;\n",
       "    }\n",
       "</style>\n",
       "<table border=\"1\" class=\"dataframe\">\n",
       "  <thead>\n",
       "    <tr style=\"text-align: right;\">\n",
       "      <th></th>\n",
       "      <th>plan</th>\n",
       "      <th>plan_description</th>\n",
       "    </tr>\n",
       "  </thead>\n",
       "  <tbody>\n",
       "    <tr>\n",
       "      <th>0</th>\n",
       "      <td>p1</td>\n",
       "      <td>Smart Recharge Pack (2 GB / Day Combo For 3 mo...</td>\n",
       "    </tr>\n",
       "    <tr>\n",
       "      <th>1</th>\n",
       "      <td>p2</td>\n",
       "      <td>Super Saviour Pack (1.5 GB / Day Combo For 56 ...</td>\n",
       "    </tr>\n",
       "    <tr>\n",
       "      <th>2</th>\n",
       "      <td>p3</td>\n",
       "      <td>Elite saver Pack (1 GB/ Day) Valid: 28 Days</td>\n",
       "    </tr>\n",
       "    <tr>\n",
       "      <th>3</th>\n",
       "      <td>p4</td>\n",
       "      <td>Mini Data Saver Pack (500 MB/ Day) Valid: 20 Days</td>\n",
       "    </tr>\n",
       "    <tr>\n",
       "      <th>4</th>\n",
       "      <td>p5</td>\n",
       "      <td>Rs. 99 Full Talktime Combo Pack</td>\n",
       "    </tr>\n",
       "    <tr>\n",
       "      <th>5</th>\n",
       "      <td>p6</td>\n",
       "      <td>Xstream Mobile Data Pack: 15GB Data | 28 days</td>\n",
       "    </tr>\n",
       "    <tr>\n",
       "      <th>6</th>\n",
       "      <td>p7</td>\n",
       "      <td>25 GB Combo 3G / 4G Data Pack</td>\n",
       "    </tr>\n",
       "    <tr>\n",
       "      <th>7</th>\n",
       "      <td>p8</td>\n",
       "      <td>Daily Saviour (1 GB / Day) validity: 1 Day</td>\n",
       "    </tr>\n",
       "    <tr>\n",
       "      <th>8</th>\n",
       "      <td>p9</td>\n",
       "      <td>Combo TopUp: 14.95 Talktime and 300 MB data</td>\n",
       "    </tr>\n",
       "    <tr>\n",
       "      <th>9</th>\n",
       "      <td>p10</td>\n",
       "      <td>Big Combo Pack (6 GB / Day) validity: 3 Days</td>\n",
       "    </tr>\n",
       "    <tr>\n",
       "      <th>10</th>\n",
       "      <td>p11</td>\n",
       "      <td>Ultra Fast Mega Pack (3GB / Day Combo For 80 d...</td>\n",
       "    </tr>\n",
       "    <tr>\n",
       "      <th>11</th>\n",
       "      <td>p12</td>\n",
       "      <td>Ultra Duo Data Pack (1.8GB / Day Combo For 55 ...</td>\n",
       "    </tr>\n",
       "    <tr>\n",
       "      <th>12</th>\n",
       "      <td>p13</td>\n",
       "      <td>Mini Ultra Saver Pack (750 MB/Day for 28 Days)</td>\n",
       "    </tr>\n",
       "  </tbody>\n",
       "</table>\n",
       "</div>"
      ],
      "text/plain": [
       "   plan                                   plan_description\n",
       "0    p1  Smart Recharge Pack (2 GB / Day Combo For 3 mo...\n",
       "1    p2  Super Saviour Pack (1.5 GB / Day Combo For 56 ...\n",
       "2    p3        Elite saver Pack (1 GB/ Day) Valid: 28 Days\n",
       "3    p4  Mini Data Saver Pack (500 MB/ Day) Valid: 20 Days\n",
       "4    p5                    Rs. 99 Full Talktime Combo Pack\n",
       "5    p6      Xstream Mobile Data Pack: 15GB Data | 28 days\n",
       "6    p7                      25 GB Combo 3G / 4G Data Pack\n",
       "7    p8         Daily Saviour (1 GB / Day) validity: 1 Day\n",
       "8    p9        Combo TopUp: 14.95 Talktime and 300 MB data\n",
       "9   p10       Big Combo Pack (6 GB / Day) validity: 3 Days\n",
       "10  p11  Ultra Fast Mega Pack (3GB / Day Combo For 80 d...\n",
       "11  p12  Ultra Duo Data Pack (1.8GB / Day Combo For 55 ...\n",
       "12  p13     Mini Ultra Saver Pack (750 MB/Day for 28 Days)"
      ]
     },
     "execution_count": 9,
     "metadata": {},
     "output_type": "execute_result"
    }
   ],
   "source": [
    "dim_plan = pd.read_csv(\"C:\\\\Users\\\\m9wrc\\\\OneDrive\\\\Desktop\\\\Telecom Project AtliQ\\\\Imp\\\\dim_plan.csv\")\n",
    "dim_plan"
   ]
  },
  {
   "cell_type": "markdown",
   "id": "a9d40462",
   "metadata": {},
   "source": [
    "Loading Fact Tables into Database"
   ]
  },
  {
   "cell_type": "code",
   "execution_count": 10,
   "id": "fde403f9",
   "metadata": {},
   "outputs": [],
   "source": [
    "fact_atliqo_metrics = pd.read_csv(\"C:\\\\Users\\\\m9wrc\\\\OneDrive\\\\Desktop\\\\Telecom Project AtliQ\\\\Imp\\\\fact_atliqo_metrics.csv\")\n",
    "fact_market_share = pd.read_csv(\"C:\\\\Users\\\\m9wrc\\\\OneDrive\\\\Desktop\\\\Telecom Project AtliQ\\\\Imp\\\\fact_market_share.csv\")\n",
    "fact_plan_revenue = pd.read_csv(\"C:\\\\Users\\\\m9wrc\\\\OneDrive\\\\Desktop\\\\Telecom Project AtliQ\\\\Imp\\\\fact_plan_revenue.csv\")"
   ]
  },
  {
   "cell_type": "code",
   "execution_count": 11,
   "id": "6cda4ef7",
   "metadata": {
    "scrolled": true
   },
   "outputs": [
    {
     "data": {
      "text/html": [
       "<div>\n",
       "<style scoped>\n",
       "    .dataframe tbody tr th:only-of-type {\n",
       "        vertical-align: middle;\n",
       "    }\n",
       "\n",
       "    .dataframe tbody tr th {\n",
       "        vertical-align: top;\n",
       "    }\n",
       "\n",
       "    .dataframe thead th {\n",
       "        text-align: right;\n",
       "    }\n",
       "</style>\n",
       "<table border=\"1\" class=\"dataframe\">\n",
       "  <thead>\n",
       "    <tr style=\"text-align: right;\">\n",
       "      <th></th>\n",
       "      <th>date</th>\n",
       "      <th>city_code</th>\n",
       "      <th>company</th>\n",
       "      <th>atliqo_revenue_crores</th>\n",
       "      <th>arpu</th>\n",
       "      <th>active_users_lakhs</th>\n",
       "      <th>unsubscribed_users_lakhs</th>\n",
       "    </tr>\n",
       "  </thead>\n",
       "  <tbody>\n",
       "    <tr>\n",
       "      <th>0</th>\n",
       "      <td>01-Jan-22</td>\n",
       "      <td>400001</td>\n",
       "      <td>Atliqo</td>\n",
       "      <td>60.69</td>\n",
       "      <td>192</td>\n",
       "      <td>31.61</td>\n",
       "      <td>1.90</td>\n",
       "    </tr>\n",
       "    <tr>\n",
       "      <th>1</th>\n",
       "      <td>01-Jan-22</td>\n",
       "      <td>110001</td>\n",
       "      <td>Atliqo</td>\n",
       "      <td>42.71</td>\n",
       "      <td>175</td>\n",
       "      <td>24.41</td>\n",
       "      <td>1.31</td>\n",
       "    </tr>\n",
       "    <tr>\n",
       "      <th>2</th>\n",
       "      <td>01-Jan-22</td>\n",
       "      <td>700001</td>\n",
       "      <td>Atliqo</td>\n",
       "      <td>36.91</td>\n",
       "      <td>175</td>\n",
       "      <td>21.09</td>\n",
       "      <td>1.25</td>\n",
       "    </tr>\n",
       "    <tr>\n",
       "      <th>3</th>\n",
       "      <td>01-Jan-22</td>\n",
       "      <td>560001</td>\n",
       "      <td>Atliqo</td>\n",
       "      <td>37.40</td>\n",
       "      <td>175</td>\n",
       "      <td>21.37</td>\n",
       "      <td>1.39</td>\n",
       "    </tr>\n",
       "    <tr>\n",
       "      <th>4</th>\n",
       "      <td>01-Jan-22</td>\n",
       "      <td>600001</td>\n",
       "      <td>Atliqo</td>\n",
       "      <td>30.80</td>\n",
       "      <td>203</td>\n",
       "      <td>15.17</td>\n",
       "      <td>1.12</td>\n",
       "    </tr>\n",
       "  </tbody>\n",
       "</table>\n",
       "</div>"
      ],
      "text/plain": [
       "        date  city_code company  atliqo_revenue_crores  arpu  \\\n",
       "0  01-Jan-22     400001  Atliqo                  60.69   192   \n",
       "1  01-Jan-22     110001  Atliqo                  42.71   175   \n",
       "2  01-Jan-22     700001  Atliqo                  36.91   175   \n",
       "3  01-Jan-22     560001  Atliqo                  37.40   175   \n",
       "4  01-Jan-22     600001  Atliqo                  30.80   203   \n",
       "\n",
       "   active_users_lakhs  unsubscribed_users_lakhs  \n",
       "0               31.61                      1.90  \n",
       "1               24.41                      1.31  \n",
       "2               21.09                      1.25  \n",
       "3               21.37                      1.39  \n",
       "4               15.17                      1.12  "
      ]
     },
     "execution_count": 11,
     "metadata": {},
     "output_type": "execute_result"
    }
   ],
   "source": [
    "fact_atliqo_metrics.head(5)"
   ]
  },
  {
   "cell_type": "code",
   "execution_count": 12,
   "id": "12c49409",
   "metadata": {},
   "outputs": [
    {
     "data": {
      "text/html": [
       "<div>\n",
       "<style scoped>\n",
       "    .dataframe tbody tr th:only-of-type {\n",
       "        vertical-align: middle;\n",
       "    }\n",
       "\n",
       "    .dataframe tbody tr th {\n",
       "        vertical-align: top;\n",
       "    }\n",
       "\n",
       "    .dataframe thead th {\n",
       "        text-align: right;\n",
       "    }\n",
       "</style>\n",
       "<table border=\"1\" class=\"dataframe\">\n",
       "  <thead>\n",
       "    <tr style=\"text-align: right;\">\n",
       "      <th></th>\n",
       "      <th>date</th>\n",
       "      <th>city_code</th>\n",
       "      <th>tmv_city_crores</th>\n",
       "      <th>company</th>\n",
       "      <th>ms_pct</th>\n",
       "    </tr>\n",
       "  </thead>\n",
       "  <tbody>\n",
       "    <tr>\n",
       "      <th>0</th>\n",
       "      <td>01-Jan-22</td>\n",
       "      <td>400001</td>\n",
       "      <td>286.29</td>\n",
       "      <td>Atliqo</td>\n",
       "      <td>21.20</td>\n",
       "    </tr>\n",
       "    <tr>\n",
       "      <th>1</th>\n",
       "      <td>01-Jan-22</td>\n",
       "      <td>110001</td>\n",
       "      <td>241.59</td>\n",
       "      <td>Atliqo</td>\n",
       "      <td>17.68</td>\n",
       "    </tr>\n",
       "    <tr>\n",
       "      <th>2</th>\n",
       "      <td>01-Jan-22</td>\n",
       "      <td>700001</td>\n",
       "      <td>222.19</td>\n",
       "      <td>Atliqo</td>\n",
       "      <td>16.61</td>\n",
       "    </tr>\n",
       "    <tr>\n",
       "      <th>3</th>\n",
       "      <td>01-Jan-22</td>\n",
       "      <td>560001</td>\n",
       "      <td>195.41</td>\n",
       "      <td>Atliqo</td>\n",
       "      <td>19.14</td>\n",
       "    </tr>\n",
       "    <tr>\n",
       "      <th>4</th>\n",
       "      <td>01-Jan-22</td>\n",
       "      <td>600001</td>\n",
       "      <td>166.78</td>\n",
       "      <td>Atliqo</td>\n",
       "      <td>18.47</td>\n",
       "    </tr>\n",
       "  </tbody>\n",
       "</table>\n",
       "</div>"
      ],
      "text/plain": [
       "        date  city_code  tmv_city_crores company  ms_pct\n",
       "0  01-Jan-22     400001           286.29  Atliqo   21.20\n",
       "1  01-Jan-22     110001           241.59  Atliqo   17.68\n",
       "2  01-Jan-22     700001           222.19  Atliqo   16.61\n",
       "3  01-Jan-22     560001           195.41  Atliqo   19.14\n",
       "4  01-Jan-22     600001           166.78  Atliqo   18.47"
      ]
     },
     "execution_count": 12,
     "metadata": {},
     "output_type": "execute_result"
    }
   ],
   "source": [
    "fact_market_share.head(5)"
   ]
  },
  {
   "cell_type": "code",
   "execution_count": 13,
   "id": "c39adfd8",
   "metadata": {
    "scrolled": true
   },
   "outputs": [
    {
     "data": {
      "text/html": [
       "<div>\n",
       "<style scoped>\n",
       "    .dataframe tbody tr th:only-of-type {\n",
       "        vertical-align: middle;\n",
       "    }\n",
       "\n",
       "    .dataframe tbody tr th {\n",
       "        vertical-align: top;\n",
       "    }\n",
       "\n",
       "    .dataframe thead th {\n",
       "        text-align: right;\n",
       "    }\n",
       "</style>\n",
       "<table border=\"1\" class=\"dataframe\">\n",
       "  <thead>\n",
       "    <tr style=\"text-align: right;\">\n",
       "      <th></th>\n",
       "      <th>date</th>\n",
       "      <th>city_code</th>\n",
       "      <th>plans</th>\n",
       "      <th>plan_revenue_crores</th>\n",
       "    </tr>\n",
       "  </thead>\n",
       "  <tbody>\n",
       "    <tr>\n",
       "      <th>0</th>\n",
       "      <td>01-Jan-22</td>\n",
       "      <td>400001</td>\n",
       "      <td>p1</td>\n",
       "      <td>6.26</td>\n",
       "    </tr>\n",
       "    <tr>\n",
       "      <th>1</th>\n",
       "      <td>01-Jan-22</td>\n",
       "      <td>110001</td>\n",
       "      <td>p1</td>\n",
       "      <td>4.58</td>\n",
       "    </tr>\n",
       "    <tr>\n",
       "      <th>2</th>\n",
       "      <td>01-Jan-22</td>\n",
       "      <td>700001</td>\n",
       "      <td>p1</td>\n",
       "      <td>4.29</td>\n",
       "    </tr>\n",
       "    <tr>\n",
       "      <th>3</th>\n",
       "      <td>01-Jan-22</td>\n",
       "      <td>560001</td>\n",
       "      <td>p1</td>\n",
       "      <td>4.26</td>\n",
       "    </tr>\n",
       "    <tr>\n",
       "      <th>4</th>\n",
       "      <td>01-Jan-22</td>\n",
       "      <td>600001</td>\n",
       "      <td>p1</td>\n",
       "      <td>3.60</td>\n",
       "    </tr>\n",
       "  </tbody>\n",
       "</table>\n",
       "</div>"
      ],
      "text/plain": [
       "        date  city_code plans  plan_revenue_crores\n",
       "0  01-Jan-22     400001    p1                 6.26\n",
       "1  01-Jan-22     110001    p1                 4.58\n",
       "2  01-Jan-22     700001    p1                 4.29\n",
       "3  01-Jan-22     560001    p1                 4.26\n",
       "4  01-Jan-22     600001    p1                 3.60"
      ]
     },
     "execution_count": 13,
     "metadata": {},
     "output_type": "execute_result"
    }
   ],
   "source": [
    "fact_plan_revenue.head(5)"
   ]
  },
  {
   "cell_type": "markdown",
   "id": "43b5b3e1",
   "metadata": {},
   "source": [
    "Checking Na Values"
   ]
  },
  {
   "cell_type": "code",
   "execution_count": 14,
   "id": "c6af463e",
   "metadata": {
    "scrolled": true
   },
   "outputs": [
    {
     "data": {
      "text/plain": [
       "date                        0\n",
       "city_code                   0\n",
       "company                     0\n",
       "atliqo_revenue_crores       0\n",
       "arpu                        0\n",
       "active_users_lakhs          0\n",
       "unsubscribed_users_lakhs    0\n",
       "dtype: int64"
      ]
     },
     "execution_count": 14,
     "metadata": {},
     "output_type": "execute_result"
    }
   ],
   "source": [
    "fact_atliqo_metrics.isnull().sum()"
   ]
  },
  {
   "cell_type": "code",
   "execution_count": 15,
   "id": "bd0f4794",
   "metadata": {},
   "outputs": [
    {
     "data": {
      "text/plain": [
       "date               0\n",
       "city_code          0\n",
       "tmv_city_crores    0\n",
       "company            0\n",
       "ms_pct             0\n",
       "dtype: int64"
      ]
     },
     "execution_count": 15,
     "metadata": {},
     "output_type": "execute_result"
    }
   ],
   "source": [
    "fact_market_share.isnull().sum()"
   ]
  },
  {
   "cell_type": "code",
   "execution_count": 16,
   "id": "cfec0c01",
   "metadata": {},
   "outputs": [
    {
     "data": {
      "text/plain": [
       "date                   0\n",
       "city_code              0\n",
       "plans                  0\n",
       "plan_revenue_crores    0\n",
       "dtype: int64"
      ]
     },
     "execution_count": 16,
     "metadata": {},
     "output_type": "execute_result"
    }
   ],
   "source": [
    "fact_plan_revenue.isnull().sum()"
   ]
  },
  {
   "cell_type": "markdown",
   "id": "2870ab00",
   "metadata": {},
   "source": [
    "Changing \"date\" type in fact tables"
   ]
  },
  {
   "cell_type": "code",
   "execution_count": 17,
   "id": "07f11128",
   "metadata": {},
   "outputs": [],
   "source": [
    "fact_atliqo_metrics[\"date\"] = pd.to_datetime(fact_atliqo_metrics[\"date\"])\n",
    "fact_market_share[\"date\"] = pd.to_datetime(fact_atliqo_metrics[\"date\"])\n",
    "fact_plan_revenue[\"date\"] = pd.to_datetime(fact_atliqo_metrics[\"date\"])"
   ]
  },
  {
   "cell_type": "code",
   "execution_count": 18,
   "id": "5f7fbe93",
   "metadata": {},
   "outputs": [
    {
     "name": "stdout",
     "output_type": "stream",
     "text": [
      "<class 'pandas.core.series.Series'>\n",
      "RangeIndex: 120 entries, 0 to 119\n",
      "Series name: date\n",
      "Non-Null Count  Dtype         \n",
      "--------------  -----         \n",
      "120 non-null    datetime64[ns]\n",
      "dtypes: datetime64[ns](1)\n",
      "memory usage: 1.1 KB\n"
     ]
    }
   ],
   "source": [
    "fact_atliqo_metrics.date.info()"
   ]
  },
  {
   "cell_type": "code",
   "execution_count": 19,
   "id": "21464b23",
   "metadata": {},
   "outputs": [
    {
     "name": "stdout",
     "output_type": "stream",
     "text": [
      "<class 'pandas.core.series.Series'>\n",
      "RangeIndex: 600 entries, 0 to 599\n",
      "Series name: date\n",
      "Non-Null Count  Dtype         \n",
      "--------------  -----         \n",
      "120 non-null    datetime64[ns]\n",
      "dtypes: datetime64[ns](1)\n",
      "memory usage: 4.8 KB\n"
     ]
    }
   ],
   "source": [
    "fact_market_share.date.info()"
   ]
  },
  {
   "cell_type": "code",
   "execution_count": 20,
   "id": "fedb481a",
   "metadata": {},
   "outputs": [
    {
     "name": "stdout",
     "output_type": "stream",
     "text": [
      "<class 'pandas.core.series.Series'>\n",
      "RangeIndex: 1200 entries, 0 to 1199\n",
      "Series name: date\n",
      "Non-Null Count  Dtype         \n",
      "--------------  -----         \n",
      "120 non-null    datetime64[ns]\n",
      "dtypes: datetime64[ns](1)\n",
      "memory usage: 9.5 KB\n"
     ]
    }
   ],
   "source": [
    "fact_plan_revenue.date.info()"
   ]
  },
  {
   "cell_type": "markdown",
   "id": "8c871898",
   "metadata": {},
   "source": [
    "Merge \"dim_cities\" with \"fact_atliqo_metrics\""
   ]
  },
  {
   "cell_type": "code",
   "execution_count": 21,
   "id": "0de06c74",
   "metadata": {},
   "outputs": [],
   "source": [
    "df_cities_atliqo_metrics = pd.merge(dim_cities, fact_atliqo_metrics, on = \"city_code\", how = \"right\")"
   ]
  },
  {
   "cell_type": "code",
   "execution_count": 22,
   "id": "8640f23f",
   "metadata": {},
   "outputs": [
    {
     "data": {
      "text/html": [
       "<div>\n",
       "<style scoped>\n",
       "    .dataframe tbody tr th:only-of-type {\n",
       "        vertical-align: middle;\n",
       "    }\n",
       "\n",
       "    .dataframe tbody tr th {\n",
       "        vertical-align: top;\n",
       "    }\n",
       "\n",
       "    .dataframe thead th {\n",
       "        text-align: right;\n",
       "    }\n",
       "</style>\n",
       "<table border=\"1\" class=\"dataframe\">\n",
       "  <thead>\n",
       "    <tr style=\"text-align: right;\">\n",
       "      <th></th>\n",
       "      <th>city_code</th>\n",
       "      <th>city_name</th>\n",
       "      <th>date</th>\n",
       "      <th>company</th>\n",
       "      <th>atliqo_revenue_crores</th>\n",
       "      <th>arpu</th>\n",
       "      <th>active_users_lakhs</th>\n",
       "      <th>unsubscribed_users_lakhs</th>\n",
       "    </tr>\n",
       "  </thead>\n",
       "  <tbody>\n",
       "    <tr>\n",
       "      <th>0</th>\n",
       "      <td>400001</td>\n",
       "      <td>Mumbai</td>\n",
       "      <td>2022-01-01</td>\n",
       "      <td>Atliqo</td>\n",
       "      <td>60.69</td>\n",
       "      <td>192</td>\n",
       "      <td>31.61</td>\n",
       "      <td>1.90</td>\n",
       "    </tr>\n",
       "    <tr>\n",
       "      <th>1</th>\n",
       "      <td>110001</td>\n",
       "      <td>Delhi</td>\n",
       "      <td>2022-01-01</td>\n",
       "      <td>Atliqo</td>\n",
       "      <td>42.71</td>\n",
       "      <td>175</td>\n",
       "      <td>24.41</td>\n",
       "      <td>1.31</td>\n",
       "    </tr>\n",
       "    <tr>\n",
       "      <th>2</th>\n",
       "      <td>700001</td>\n",
       "      <td>Kolkata</td>\n",
       "      <td>2022-01-01</td>\n",
       "      <td>Atliqo</td>\n",
       "      <td>36.91</td>\n",
       "      <td>175</td>\n",
       "      <td>21.09</td>\n",
       "      <td>1.25</td>\n",
       "    </tr>\n",
       "    <tr>\n",
       "      <th>3</th>\n",
       "      <td>560001</td>\n",
       "      <td>Bangalore</td>\n",
       "      <td>2022-01-01</td>\n",
       "      <td>Atliqo</td>\n",
       "      <td>37.40</td>\n",
       "      <td>175</td>\n",
       "      <td>21.37</td>\n",
       "      <td>1.39</td>\n",
       "    </tr>\n",
       "    <tr>\n",
       "      <th>4</th>\n",
       "      <td>600001</td>\n",
       "      <td>Chennai</td>\n",
       "      <td>2022-01-01</td>\n",
       "      <td>Atliqo</td>\n",
       "      <td>30.80</td>\n",
       "      <td>203</td>\n",
       "      <td>15.17</td>\n",
       "      <td>1.12</td>\n",
       "    </tr>\n",
       "    <tr>\n",
       "      <th>...</th>\n",
       "      <td>...</td>\n",
       "      <td>...</td>\n",
       "      <td>...</td>\n",
       "      <td>...</td>\n",
       "      <td>...</td>\n",
       "      <td>...</td>\n",
       "      <td>...</td>\n",
       "      <td>...</td>\n",
       "    </tr>\n",
       "    <tr>\n",
       "      <th>115</th>\n",
       "      <td>800008</td>\n",
       "      <td>Patna</td>\n",
       "      <td>2022-09-01</td>\n",
       "      <td>Atliqo</td>\n",
       "      <td>11.86</td>\n",
       "      <td>250</td>\n",
       "      <td>4.74</td>\n",
       "      <td>0.38</td>\n",
       "    </tr>\n",
       "    <tr>\n",
       "      <th>116</th>\n",
       "      <td>641001</td>\n",
       "      <td>Coimbatore</td>\n",
       "      <td>2022-09-01</td>\n",
       "      <td>Atliqo</td>\n",
       "      <td>8.59</td>\n",
       "      <td>177</td>\n",
       "      <td>4.85</td>\n",
       "      <td>0.53</td>\n",
       "    </tr>\n",
       "    <tr>\n",
       "      <th>117</th>\n",
       "      <td>160017</td>\n",
       "      <td>Chandigarh</td>\n",
       "      <td>2022-09-01</td>\n",
       "      <td>Atliqo</td>\n",
       "      <td>10.32</td>\n",
       "      <td>163</td>\n",
       "      <td>6.33</td>\n",
       "      <td>0.63</td>\n",
       "    </tr>\n",
       "    <tr>\n",
       "      <th>118</th>\n",
       "      <td>122001</td>\n",
       "      <td>Gurgaon</td>\n",
       "      <td>2022-09-01</td>\n",
       "      <td>Atliqo</td>\n",
       "      <td>6.35</td>\n",
       "      <td>238</td>\n",
       "      <td>2.67</td>\n",
       "      <td>0.21</td>\n",
       "    </tr>\n",
       "    <tr>\n",
       "      <th>119</th>\n",
       "      <td>492001</td>\n",
       "      <td>Raipur</td>\n",
       "      <td>2022-09-01</td>\n",
       "      <td>Atliqo</td>\n",
       "      <td>3.73</td>\n",
       "      <td>173</td>\n",
       "      <td>2.16</td>\n",
       "      <td>0.18</td>\n",
       "    </tr>\n",
       "  </tbody>\n",
       "</table>\n",
       "<p>120 rows × 8 columns</p>\n",
       "</div>"
      ],
      "text/plain": [
       "     city_code   city_name       date company  atliqo_revenue_crores  arpu  \\\n",
       "0       400001      Mumbai 2022-01-01  Atliqo                  60.69   192   \n",
       "1       110001       Delhi 2022-01-01  Atliqo                  42.71   175   \n",
       "2       700001     Kolkata 2022-01-01  Atliqo                  36.91   175   \n",
       "3       560001   Bangalore 2022-01-01  Atliqo                  37.40   175   \n",
       "4       600001     Chennai 2022-01-01  Atliqo                  30.80   203   \n",
       "..         ...         ...        ...     ...                    ...   ...   \n",
       "115     800008       Patna 2022-09-01  Atliqo                  11.86   250   \n",
       "116     641001  Coimbatore 2022-09-01  Atliqo                   8.59   177   \n",
       "117     160017  Chandigarh 2022-09-01  Atliqo                  10.32   163   \n",
       "118     122001     Gurgaon 2022-09-01  Atliqo                   6.35   238   \n",
       "119     492001      Raipur 2022-09-01  Atliqo                   3.73   173   \n",
       "\n",
       "     active_users_lakhs  unsubscribed_users_lakhs  \n",
       "0                 31.61                      1.90  \n",
       "1                 24.41                      1.31  \n",
       "2                 21.09                      1.25  \n",
       "3                 21.37                      1.39  \n",
       "4                 15.17                      1.12  \n",
       "..                  ...                       ...  \n",
       "115                4.74                      0.38  \n",
       "116                4.85                      0.53  \n",
       "117                6.33                      0.63  \n",
       "118                2.67                      0.21  \n",
       "119                2.16                      0.18  \n",
       "\n",
       "[120 rows x 8 columns]"
      ]
     },
     "execution_count": 22,
     "metadata": {},
     "output_type": "execute_result"
    }
   ],
   "source": [
    "df_cities_atliqo_metrics"
   ]
  },
  {
   "cell_type": "markdown",
   "id": "a31a2462",
   "metadata": {},
   "source": [
    "Atliqo Revenue By City"
   ]
  },
  {
   "cell_type": "code",
   "execution_count": 23,
   "id": "2d33b1b7",
   "metadata": {},
   "outputs": [
    {
     "data": {
      "text/plain": [
       "<Axes: ylabel='city_name'>"
      ]
     },
     "execution_count": 23,
     "metadata": {},
     "output_type": "execute_result"
    },
    {
     "data": {
      "image/png": "[encoded data removed]",
      "text/plain": [
       "<Figure size 432x288 with 1 Axes>"
      ]
     },
     "metadata": {
      "needs_background": "light"
     },
     "output_type": "display_data"
    }
   ],
   "source": [
    "df_cities_atliqo_metrics.groupby(\"city_name\")[\"atliqo_revenue_crores\"].sum().sort_values().plot(kind = \"barh\")"
   ]
  },
  {
   "cell_type": "markdown",
   "id": "dfaac091",
   "metadata": {},
   "source": [
    "ARPU By City"
   ]
  },
  {
   "cell_type": "code",
   "execution_count": 24,
   "id": "67fd2bf5",
   "metadata": {},
   "outputs": [
    {
     "data": {
      "text/plain": [
       "<Axes: xlabel='city_name'>"
      ]
     },
     "execution_count": 24,
     "metadata": {},
     "output_type": "execute_result"
    },
    {
     "data": {
      "image/png": "[encoded data removed]",
      "text/plain": [
       "<Figure size 432x288 with 1 Axes>"
      ]
     },
     "metadata": {
      "needs_background": "light"
     },
     "output_type": "display_data"
    }
   ],
   "source": [
    "df_cities_atliqo_metrics.groupby(\"city_name\")[\"arpu\"].sum().sort_values(ascending = False).plot(kind = \"bar\")"
   ]
  },
  {
   "cell_type": "code",
   "execution_count": 25,
   "id": "be404a04",
   "metadata": {},
   "outputs": [
    {
     "data": {
      "text/plain": [
       "<Axes: xlabel='city_name'>"
      ]
     },
     "execution_count": 25,
     "metadata": {},
     "output_type": "execute_result"
    },
    {
     "data": {
      "image/png": "[encoded data removed]",
      "text/plain": [
       "<Figure size 432x288 with 1 Axes>"
      ]
     },
     "metadata": {
      "needs_background": "light"
     },
     "output_type": "display_data"
    }
   ],
   "source": [
    "df_cities_atliqo_metrics.groupby(\"city_name\")[\"active_users_lakhs\"].sum().sort_values(ascending = False).plot(kind = \"bar\")"
   ]
  },
  {
   "cell_type": "code",
   "execution_count": 26,
   "id": "dfd657e1",
   "metadata": {},
   "outputs": [
    {
     "data": {
      "text/plain": [
       "<Axes: xlabel='city_name'>"
      ]
     },
     "execution_count": 26,
     "metadata": {},
     "output_type": "execute_result"
    },
    {
     "data": {
      "image/png": "[encoded data removed]",
      "text/plain": [
       "<Figure size 432x288 with 1 Axes>"
      ]
     },
     "metadata": {
      "needs_background": "light"
     },
     "output_type": "display_data"
    }
   ],
   "source": [
    "df_cities_atliqo_metrics.groupby(\"city_name\")[\"unsubscribed_users_lakhs\"].sum().sort_values(ascending = False).plot(kind = \"bar\")"
   ]
  },
  {
   "cell_type": "markdown",
   "id": "a849011f",
   "metadata": {},
   "source": [
    "Merge \"dim_date\" with \"fact_atliqo_metrics\""
   ]
  },
  {
   "cell_type": "code",
   "execution_count": 27,
   "id": "6088f4b9",
   "metadata": {},
   "outputs": [],
   "source": [
    "df_date_atliqo_metrics = pd.merge(dim_date, fact_atliqo_metrics, on = \"date\")"
   ]
  },
  {
   "cell_type": "code",
   "execution_count": 51,
   "id": "848c904d",
   "metadata": {},
   "outputs": [
    {
     "data": {
      "text/html": [
       "<div>\n",
       "<style scoped>\n",
       "    .dataframe tbody tr th:only-of-type {\n",
       "        vertical-align: middle;\n",
       "    }\n",
       "\n",
       "    .dataframe tbody tr th {\n",
       "        vertical-align: top;\n",
       "    }\n",
       "\n",
       "    .dataframe thead th {\n",
       "        text-align: right;\n",
       "    }\n",
       "</style>\n",
       "<table border=\"1\" class=\"dataframe\">\n",
       "  <thead>\n",
       "    <tr style=\"text-align: right;\">\n",
       "      <th></th>\n",
       "      <th>date</th>\n",
       "      <th>month_name</th>\n",
       "      <th>before/after_5g</th>\n",
       "      <th>time_period</th>\n",
       "      <th>city_code</th>\n",
       "      <th>company</th>\n",
       "      <th>atliqo_revenue_crores</th>\n",
       "      <th>arpu</th>\n",
       "      <th>active_users_lakhs</th>\n",
       "      <th>unsubscribed_users_lakhs</th>\n",
       "    </tr>\n",
       "  </thead>\n",
       "  <tbody>\n",
       "    <tr>\n",
       "      <th>0</th>\n",
       "      <td>2022-01-01</td>\n",
       "      <td>Jan</td>\n",
       "      <td>Before 5G</td>\n",
       "      <td>1</td>\n",
       "      <td>400001</td>\n",
       "      <td>Atliqo</td>\n",
       "      <td>60.69</td>\n",
       "      <td>192</td>\n",
       "      <td>31.61</td>\n",
       "      <td>1.90</td>\n",
       "    </tr>\n",
       "    <tr>\n",
       "      <th>1</th>\n",
       "      <td>2022-01-01</td>\n",
       "      <td>Jan</td>\n",
       "      <td>Before 5G</td>\n",
       "      <td>1</td>\n",
       "      <td>110001</td>\n",
       "      <td>Atliqo</td>\n",
       "      <td>42.71</td>\n",
       "      <td>175</td>\n",
       "      <td>24.41</td>\n",
       "      <td>1.31</td>\n",
       "    </tr>\n",
       "    <tr>\n",
       "      <th>2</th>\n",
       "      <td>2022-01-01</td>\n",
       "      <td>Jan</td>\n",
       "      <td>Before 5G</td>\n",
       "      <td>1</td>\n",
       "      <td>700001</td>\n",
       "      <td>Atliqo</td>\n",
       "      <td>36.91</td>\n",
       "      <td>175</td>\n",
       "      <td>21.09</td>\n",
       "      <td>1.25</td>\n",
       "    </tr>\n",
       "    <tr>\n",
       "      <th>3</th>\n",
       "      <td>2022-01-01</td>\n",
       "      <td>Jan</td>\n",
       "      <td>Before 5G</td>\n",
       "      <td>1</td>\n",
       "      <td>560001</td>\n",
       "      <td>Atliqo</td>\n",
       "      <td>37.40</td>\n",
       "      <td>175</td>\n",
       "      <td>21.37</td>\n",
       "      <td>1.39</td>\n",
       "    </tr>\n",
       "    <tr>\n",
       "      <th>4</th>\n",
       "      <td>2022-01-01</td>\n",
       "      <td>Jan</td>\n",
       "      <td>Before 5G</td>\n",
       "      <td>1</td>\n",
       "      <td>600001</td>\n",
       "      <td>Atliqo</td>\n",
       "      <td>30.80</td>\n",
       "      <td>203</td>\n",
       "      <td>15.17</td>\n",
       "      <td>1.12</td>\n",
       "    </tr>\n",
       "    <tr>\n",
       "      <th>...</th>\n",
       "      <td>...</td>\n",
       "      <td>...</td>\n",
       "      <td>...</td>\n",
       "      <td>...</td>\n",
       "      <td>...</td>\n",
       "      <td>...</td>\n",
       "      <td>...</td>\n",
       "      <td>...</td>\n",
       "      <td>...</td>\n",
       "      <td>...</td>\n",
       "    </tr>\n",
       "    <tr>\n",
       "      <th>115</th>\n",
       "      <td>2022-09-01</td>\n",
       "      <td>Sep</td>\n",
       "      <td>After 5G</td>\n",
       "      <td>4</td>\n",
       "      <td>800008</td>\n",
       "      <td>Atliqo</td>\n",
       "      <td>11.86</td>\n",
       "      <td>250</td>\n",
       "      <td>4.74</td>\n",
       "      <td>0.38</td>\n",
       "    </tr>\n",
       "    <tr>\n",
       "      <th>116</th>\n",
       "      <td>2022-09-01</td>\n",
       "      <td>Sep</td>\n",
       "      <td>After 5G</td>\n",
       "      <td>4</td>\n",
       "      <td>641001</td>\n",
       "      <td>Atliqo</td>\n",
       "      <td>8.59</td>\n",
       "      <td>177</td>\n",
       "      <td>4.85</td>\n",
       "      <td>0.53</td>\n",
       "    </tr>\n",
       "    <tr>\n",
       "      <th>117</th>\n",
       "      <td>2022-09-01</td>\n",
       "      <td>Sep</td>\n",
       "      <td>After 5G</td>\n",
       "      <td>4</td>\n",
       "      <td>160017</td>\n",
       "      <td>Atliqo</td>\n",
       "      <td>10.32</td>\n",
       "      <td>163</td>\n",
       "      <td>6.33</td>\n",
       "      <td>0.63</td>\n",
       "    </tr>\n",
       "    <tr>\n",
       "      <th>118</th>\n",
       "      <td>2022-09-01</td>\n",
       "      <td>Sep</td>\n",
       "      <td>After 5G</td>\n",
       "      <td>4</td>\n",
       "      <td>122001</td>\n",
       "      <td>Atliqo</td>\n",
       "      <td>6.35</td>\n",
       "      <td>238</td>\n",
       "      <td>2.67</td>\n",
       "      <td>0.21</td>\n",
       "    </tr>\n",
       "    <tr>\n",
       "      <th>119</th>\n",
       "      <td>2022-09-01</td>\n",
       "      <td>Sep</td>\n",
       "      <td>After 5G</td>\n",
       "      <td>4</td>\n",
       "      <td>492001</td>\n",
       "      <td>Atliqo</td>\n",
       "      <td>3.73</td>\n",
       "      <td>173</td>\n",
       "      <td>2.16</td>\n",
       "      <td>0.18</td>\n",
       "    </tr>\n",
       "  </tbody>\n",
       "</table>\n",
       "<p>120 rows × 10 columns</p>\n",
       "</div>"
      ],
      "text/plain": [
       "          date month_name before/after_5g  time_period  city_code company  \\\n",
       "0   2022-01-01        Jan       Before 5G            1     400001  Atliqo   \n",
       "1   2022-01-01        Jan       Before 5G            1     110001  Atliqo   \n",
       "2   2022-01-01        Jan       Before 5G            1     700001  Atliqo   \n",
       "3   2022-01-01        Jan       Before 5G            1     560001  Atliqo   \n",
       "4   2022-01-01        Jan       Before 5G            1     600001  Atliqo   \n",
       "..         ...        ...             ...          ...        ...     ...   \n",
       "115 2022-09-01        Sep        After 5G            4     800008  Atliqo   \n",
       "116 2022-09-01        Sep        After 5G            4     641001  Atliqo   \n",
       "117 2022-09-01        Sep        After 5G            4     160017  Atliqo   \n",
       "118 2022-09-01        Sep        After 5G            4     122001  Atliqo   \n",
       "119 2022-09-01        Sep        After 5G            4     492001  Atliqo   \n",
       "\n",
       "     atliqo_revenue_crores  arpu  active_users_lakhs  unsubscribed_users_lakhs  \n",
       "0                    60.69   192               31.61                      1.90  \n",
       "1                    42.71   175               24.41                      1.31  \n",
       "2                    36.91   175               21.09                      1.25  \n",
       "3                    37.40   175               21.37                      1.39  \n",
       "4                    30.80   203               15.17                      1.12  \n",
       "..                     ...   ...                 ...                       ...  \n",
       "115                  11.86   250                4.74                      0.38  \n",
       "116                   8.59   177                4.85                      0.53  \n",
       "117                  10.32   163                6.33                      0.63  \n",
       "118                   6.35   238                2.67                      0.21  \n",
       "119                   3.73   173                2.16                      0.18  \n",
       "\n",
       "[120 rows x 10 columns]"
      ]
     },
     "execution_count": 51,
     "metadata": {},
     "output_type": "execute_result"
    }
   ],
   "source": [
    "df_date_atliqo_metrics"
   ]
  },
  {
   "cell_type": "code",
   "execution_count": 54,
   "id": "7a3a0077",
   "metadata": {},
   "outputs": [
    {
     "data": {
      "text/plain": [
       "<Axes: xlabel='month_name'>"
      ]
     },
     "execution_count": 54,
     "metadata": {},
     "output_type": "execute_result"
    },
    {
     "data": {
      "image/png": "[encoded data removed]",
      "text/plain": [
       "<Figure size 432x288 with 1 Axes>"
      ]
     },
     "metadata": {
      "needs_background": "light"
     },
     "output_type": "display_data"
    }
   ],
   "source": [
    "df_date_atliqo_metrics.groupby(\"month_name\")[\"atliqo_revenue_crores\"].sum().sort_values().plot()"
   ]
  },
  {
   "cell_type": "code",
   "execution_count": 57,
   "id": "74a7b9a8",
   "metadata": {},
   "outputs": [
    {
     "data": {
      "text/plain": [
       "<Axes: xlabel='month_name'>"
      ]
     },
     "execution_count": 57,
     "metadata": {},
     "output_type": "execute_result"
    },
    {
     "data": {
      "image/png": "[encoded data removed]",
      "text/plain": [
       "<Figure size 432x288 with 1 Axes>"
      ]
     },
     "metadata": {
      "needs_background": "light"
     },
     "output_type": "display_data"
    }
   ],
   "source": [
    "df_date_atliqo_metrics.groupby(\"month_name\")[\"arpu\"].sum().plot()"
   ]
  },
  {
   "cell_type": "code",
   "execution_count": 58,
   "id": "bd45b020",
   "metadata": {},
   "outputs": [
    {
     "data": {
      "text/plain": [
       "<Axes: xlabel='month_name'>"
      ]
     },
     "execution_count": 58,
     "metadata": {},
     "output_type": "execute_result"
    },
    {
     "data": {
      "image/png": "[encoded data removed]",
      "text/plain": [
       "<Figure size 432x288 with 1 Axes>"
      ]
     },
     "metadata": {
      "needs_background": "light"
     },
     "output_type": "display_data"
    }
   ],
   "source": [
    "df_date_atliqo_metrics.groupby(\"month_name\")[\"active_users_lakhs\"].sum().plot()"
   ]
  },
  {
   "cell_type": "code",
   "execution_count": 59,
   "id": "b7a8cfbb",
   "metadata": {},
   "outputs": [
    {
     "data": {
      "text/plain": [
       "<Axes: xlabel='month_name'>"
      ]
     },
     "execution_count": 59,
     "metadata": {},
     "output_type": "execute_result"
    },
    {
     "data": {
      "image/png": "[encoded data removed]",
      "text/plain": [
       "<Figure size 432x288 with 1 Axes>"
      ]
     },
     "metadata": {
      "needs_background": "light"
     },
     "output_type": "display_data"
    }
   ],
   "source": [
    "df_date_atliqo_metrics.groupby(\"month_name\")[\"unsubscribed_users_lakhs\"].sum().plot()"
   ]
  },
  {
   "cell_type": "code",
   "execution_count": null,
   "id": "f02e0021",
   "metadata": {},
   "outputs": [],
   "source": []
  },
  {
   "cell_type": "code",
   "execution_count": null,
   "id": "1e726127",
   "metadata": {},
   "outputs": [],
   "source": []
  },
  {
   "cell_type": "code",
   "execution_count": null,
   "id": "ad893f03",
   "metadata": {},
   "outputs": [],
   "source": []
  },
  {
   "cell_type": "code",
   "execution_count": null,
   "id": "d6c3008b",
   "metadata": {},
   "outputs": [],
   "source": []
  }
 ],
 "metadata": {
  "kernelspec": {
   "display_name": "Python 3 (ipykernel)",
   "language": "python",
   "name": "python3"
  },
  "language_info": {
   "codemirror_mode": {
    "name": "ipython",
    "version": 3
   },
   "file_extension": ".py",
   "mimetype": "text/x-python",
   "name": "python",
   "nbconvert_exporter": "python",
   "pygments_lexer": "ipython3",
   "version": "3.10.5"
  }
 },
 "nbformat": 4,
 "nbformat_minor": 5
}
