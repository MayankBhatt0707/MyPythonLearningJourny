{
 "cells": [
  {
   "cell_type": "code",
   "execution_count": null,
   "id": "ce28c880",
   "metadata": {},
   "outputs": [],
   "source": [
    "'''\n",
    "You are a Marvel fan and created a list of superheroes.\n",
    "\n",
    "​​​​​​​avengers  = [\"Iron Man\", \"Captain America\", \"Black Widow\", \"Hulk\", \"Thor\", \"Hawkeye\"]\n",
    "Using this list, do the following:\n",
    "\n",
    "Calculate how many members are in the Avengers team?\n",
    "Iron Man made Spider-Man a new member of the Avengers, add him to your list.\n",
    "Captain America is the leader of the Avengers, you need to add him before Iron Man, so remove him from the list and add him before Iron Man.\n",
    "You don’t like Thor and Hulk together because they get angry easily and fight with each other. So you have to separate them from each other. To separate them, either move “Black Widow” or “Hawkeye” in between them.\n",
    "After Avengers: End Game the original six avengers are retired, now you need to remove them from your list and add new superheroes like Doctor Strange, Vision, Wanda, Kate Bishop, and Ant-Man.\n",
    "As “Captain America” is also retired and now currently, no one is the leader, so sort the list in alphabetical order. Whoever will come at the 0th index will become the Leader. (BONUS: can you guess who will become the leader)\n",
    "'''"
   ]
  },
  {
   "cell_type": "code",
   "execution_count": 3,
   "id": "2b6f0811",
   "metadata": {},
   "outputs": [
    {
     "data": {
      "text/plain": [
       "['Iron Man', 'Captain America', 'Black Widow', 'Hulk', 'Thor', 'Hawkeye']"
      ]
     },
     "execution_count": 3,
     "metadata": {},
     "output_type": "execute_result"
    }
   ],
   "source": [
    "avengers  = [\"Iron Man\", \"Captain America\", \"Black Widow\", \"Hulk\", \"Thor\", \"Hawkeye\"]\n",
    "avengers"
   ]
  },
  {
   "cell_type": "code",
   "execution_count": 8,
   "id": "c6b00af3",
   "metadata": {},
   "outputs": [
    {
     "data": {
      "text/plain": [
       "6"
      ]
     },
     "execution_count": 8,
     "metadata": {},
     "output_type": "execute_result"
    }
   ],
   "source": [
    "len(avengers)"
   ]
  },
  {
   "cell_type": "code",
   "execution_count": 9,
   "id": "35633094",
   "metadata": {},
   "outputs": [],
   "source": [
    "avengers.remove(\"Captain America\")"
   ]
  },
  {
   "cell_type": "code",
   "execution_count": 10,
   "id": "83eb14fa",
   "metadata": {},
   "outputs": [
    {
     "data": {
      "text/plain": [
       "['Iron Man', 'Black Widow', 'Hulk', 'Thor', 'Hawkeye']"
      ]
     },
     "execution_count": 10,
     "metadata": {},
     "output_type": "execute_result"
    }
   ],
   "source": [
    "avengers"
   ]
  },
  {
   "cell_type": "code",
   "execution_count": 11,
   "id": "5b887e7f",
   "metadata": {},
   "outputs": [],
   "source": [
    "avengers.insert(0, \"Captain America\")"
   ]
  },
  {
   "cell_type": "code",
   "execution_count": 12,
   "id": "97b8111e",
   "metadata": {},
   "outputs": [
    {
     "data": {
      "text/plain": [
       "['Captain America', 'Iron Man', 'Black Widow', 'Hulk', 'Thor', 'Hawkeye']"
      ]
     },
     "execution_count": 12,
     "metadata": {},
     "output_type": "execute_result"
    }
   ],
   "source": [
    "avengers"
   ]
  },
  {
   "cell_type": "code",
   "execution_count": 13,
   "id": "4c27df2a",
   "metadata": {},
   "outputs": [
    {
     "data": {
      "text/plain": [
       "['__add__',\n",
       " '__class__',\n",
       " '__class_getitem__',\n",
       " '__contains__',\n",
       " '__delattr__',\n",
       " '__delitem__',\n",
       " '__dir__',\n",
       " '__doc__',\n",
       " '__eq__',\n",
       " '__format__',\n",
       " '__ge__',\n",
       " '__getattribute__',\n",
       " '__getitem__',\n",
       " '__gt__',\n",
       " '__hash__',\n",
       " '__iadd__',\n",
       " '__imul__',\n",
       " '__init__',\n",
       " '__init_subclass__',\n",
       " '__iter__',\n",
       " '__le__',\n",
       " '__len__',\n",
       " '__lt__',\n",
       " '__mul__',\n",
       " '__ne__',\n",
       " '__new__',\n",
       " '__reduce__',\n",
       " '__reduce_ex__',\n",
       " '__repr__',\n",
       " '__reversed__',\n",
       " '__rmul__',\n",
       " '__setattr__',\n",
       " '__setitem__',\n",
       " '__sizeof__',\n",
       " '__str__',\n",
       " '__subclasshook__',\n",
       " 'append',\n",
       " 'clear',\n",
       " 'copy',\n",
       " 'count',\n",
       " 'extend',\n",
       " 'index',\n",
       " 'insert',\n",
       " 'pop',\n",
       " 'remove',\n",
       " 'reverse',\n",
       " 'sort']"
      ]
     },
     "execution_count": 13,
     "metadata": {},
     "output_type": "execute_result"
    }
   ],
   "source": [
    "dir(avengers)"
   ]
  },
  {
   "cell_type": "code",
   "execution_count": 14,
   "id": "4f1abb01",
   "metadata": {},
   "outputs": [],
   "source": [
    "avengers.remove(\"Black Widow\")"
   ]
  },
  {
   "cell_type": "code",
   "execution_count": 15,
   "id": "c09ef8a0",
   "metadata": {},
   "outputs": [
    {
     "data": {
      "text/plain": [
       "['Captain America', 'Iron Man', 'Hulk', 'Thor', 'Hawkeye']"
      ]
     },
     "execution_count": 15,
     "metadata": {},
     "output_type": "execute_result"
    }
   ],
   "source": [
    "avengers"
   ]
  },
  {
   "cell_type": "code",
   "execution_count": 21,
   "id": "45fa64d7",
   "metadata": {},
   "outputs": [],
   "source": [
    "avengers.insert(3,\"Black Widow\")"
   ]
  },
  {
   "cell_type": "code",
   "execution_count": 22,
   "id": "f7339453",
   "metadata": {},
   "outputs": [
    {
     "data": {
      "text/plain": [
       "['Captain America', 'Iron Man', 'Hulk', 'Black Widow', 'Thor', 'Hawkeye']"
      ]
     },
     "execution_count": 22,
     "metadata": {},
     "output_type": "execute_result"
    }
   ],
   "source": [
    "avengers"
   ]
  },
  {
   "cell_type": "code",
   "execution_count": 37,
   "id": "fdfb3174",
   "metadata": {},
   "outputs": [],
   "source": [
    "avengers.clear()"
   ]
  },
  {
   "cell_type": "code",
   "execution_count": 38,
   "id": "935ff434",
   "metadata": {},
   "outputs": [
    {
     "data": {
      "text/plain": [
       "[]"
      ]
     },
     "execution_count": 38,
     "metadata": {},
     "output_type": "execute_result"
    }
   ],
   "source": [
    "avengers"
   ]
  },
  {
   "cell_type": "code",
   "execution_count": 39,
   "id": "50a7a3b8",
   "metadata": {},
   "outputs": [],
   "source": [
    "avengers = [\"Doctor Strange\", \"Vision\", \"Wanda\", \"Kate Bishop\", \"Ant-Man\"]"
   ]
  },
  {
   "cell_type": "code",
   "execution_count": 40,
   "id": "c13044f3",
   "metadata": {},
   "outputs": [
    {
     "data": {
      "text/plain": [
       "['Doctor Strange', 'Vision', 'Wanda', 'Kate Bishop', 'Ant-Man']"
      ]
     },
     "execution_count": 40,
     "metadata": {},
     "output_type": "execute_result"
    }
   ],
   "source": [
    "avengers"
   ]
  },
  {
   "cell_type": "code",
   "execution_count": 41,
   "id": "ba7cac5b",
   "metadata": {},
   "outputs": [],
   "source": [
    "avengers.sort()"
   ]
  },
  {
   "cell_type": "code",
   "execution_count": 42,
   "id": "aa2df6a2",
   "metadata": {},
   "outputs": [
    {
     "data": {
      "text/plain": [
       "['Ant-Man', 'Doctor Strange', 'Kate Bishop', 'Vision', 'Wanda']"
      ]
     },
     "execution_count": 42,
     "metadata": {},
     "output_type": "execute_result"
    }
   ],
   "source": [
    "avengers"
   ]
  },
  {
   "cell_type": "code",
   "execution_count": null,
   "id": "e4aae548",
   "metadata": {},
   "outputs": [],
   "source": []
  }
 ],
 "metadata": {
  "kernelspec": {
   "display_name": "Python 3 (ipykernel)",
   "language": "python",
   "name": "python3"
  },
  "language_info": {
   "codemirror_mode": {
    "name": "ipython",
    "version": 3
   },
   "file_extension": ".py",
   "mimetype": "text/x-python",
   "name": "python",
   "nbconvert_exporter": "python",
   "pygments_lexer": "ipython3",
   "version": "3.10.5"
  }
 },
 "nbformat": 4,
 "nbformat_minor": 5
}
