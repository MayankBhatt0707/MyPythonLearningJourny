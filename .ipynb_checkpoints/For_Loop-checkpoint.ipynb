{
 "cells": [
  {
   "cell_type": "code",
   "execution_count": 2,
   "id": "64e7c731",
   "metadata": {},
   "outputs": [
    {
     "name": "stdout",
     "output_type": "stream",
     "text": [
      "1, -1, -3, -5, "
     ]
    }
   ],
   "source": [
    "'''\n",
    "Write a Python program to print the following pattern.\n",
    "\n",
    "1 2 3 4 5\n",
    "1 2 3 4 \n",
    "1 2 3\n",
    "1 2\n",
    "1\n",
    "\n",
    "Write a Python program to find the sum of all the numbers except odd numbers between 1 and 20 using a loop. Can you also do this using a while loop?\n",
    "\n",
    "After throwing the dice several times, you got this result,\n",
    "dice_result  = [5,6,4,2,5,4,4,5,3,3,2,6,1,2,1,1,6,5]\n",
    "Using a for loop find out the followings:\n",
    "\n",
    "How many times have you got 6s\n",
    "\n",
    "How many times have you got 1s\n",
    "\n",
    "How many times have you got 6s two times in a row\n",
    "\n",
    "Let's say you are doing push-ups and you have to complete 50 push-ups daily, write a program that,\n",
    "\n",
    "Upon completing 10 push-ups in a go, asks you, “Are you tired?”\n",
    "\n",
    "If you reply “yes” or “y” then it should break and print “You did total push-ups.”\n",
    "\n",
    "For example: If you did only 30  push-ups and answered “yes” to your program. It will break the loop and print “You did a total of 30 push-ups**”**\n",
    "\n",
    "If you reply “no” or “n” then it should continue and display how many push-ups are remaining  now after that ask you again “Are you tired?”\n",
    "\n",
    "For Example: if you answered “no” then it should display that 20 push-ups are remaining and ask you again “Are you tired?”\n",
    "\n",
    "If you complete all 50 push-ups, then it should print the “Congratulations! You made it” and stopped the program.\n",
    "'''"
   ]
  },
  {
   "cell_type": "code",
   "execution_count": null,
   "id": "0d9d25d5",
   "metadata": {},
   "outputs": [],
   "source": []
  }
 ],
 "metadata": {
  "kernelspec": {
   "display_name": "Python 3 (ipykernel)",
   "language": "python",
   "name": "python3"
  },
  "language_info": {
   "codemirror_mode": {
    "name": "ipython",
    "version": 3
   },
   "file_extension": ".py",
   "mimetype": "text/x-python",
   "name": "python",
   "nbconvert_exporter": "python",
   "pygments_lexer": "ipython3",
   "version": "3.10.5"
  }
 },
 "nbformat": 4,
 "nbformat_minor": 5
}
