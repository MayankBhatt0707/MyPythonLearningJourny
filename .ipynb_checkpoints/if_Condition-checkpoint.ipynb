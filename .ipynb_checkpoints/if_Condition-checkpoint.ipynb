{
 "cells": [
  {
   "cell_type": "code",
   "execution_count": 11,
   "id": "e106303e",
   "metadata": {},
   "outputs": [
    {
     "name": "stdout",
     "output_type": "stream",
     "text": [
      "Enter a dish name: fried rice\n",
      "It's a Chinese cuisine\n"
     ]
    }
   ],
   "source": [
    "indian = [\"samosa\", \"naan\", \"daal\"]\n",
    "chinese = [\"egg roll\", \"pot sticker\", \"fried rice\"]\n",
    "italian = [\"pizza\", \"pasta\", \"risotto\"]\n",
    "\n",
    "dish = input(\"Enter a dish name: \")\n",
    "if dish in indian:\n",
    "    print(\"It's an Indian cuisine\")\n",
    "elif dish in chinese:\n",
    "    print(\"It's a Chinese cuisine\")\n",
    "elif dish in italian:\n",
    "    print(\"It's an Italian cuisine\")\n",
    "else:\n",
    "    print(\"Invalid Dish enetered\")"
   ]
  },
  {
   "cell_type": "code",
   "execution_count": 14,
   "id": "6d131e6a",
   "metadata": {},
   "outputs": [
    {
     "name": "stdout",
     "output_type": "stream",
     "text": [
      "Enter a Number: 24\n",
      "Number is even\n"
     ]
    }
   ],
   "source": [
    "n = int(input(\"Enter a Number: \"))\n",
    "print(\"Number is even\" if n%2==0 else \"number is odd\")"
   ]
  },
  {
   "cell_type": "code",
   "execution_count": null,
   "id": "0ceb3d01",
   "metadata": {},
   "outputs": [],
   "source": [
    "'''Write a program that can tell you your BMI Category.\n",
    "\n",
    "Ask user to enter height\n",
    "\n",
    "Ask user to enter weight\n",
    "\n",
    "Calculate the BMI(Body Mass Index = weight / height^2) and store it in a variable\n",
    "\n",
    "If the BMI is 30 or greater, print “Obesity”\n",
    "\n",
    "If the BMI is in between 25 and 29, print “Overweight”\n",
    "\n",
    "If the BMI is in between 18.5 and 25, print “Normal”\n",
    "\n",
    "If the BMI is less than 18.5, print “Underweight”\n",
    "\n",
    "Using the following list of cities per country,\n",
    "\n",
    " ​​​​​​India = [\"Mumbai\", \"Bangalore\", \"Chennai\", \"Delhi\"]\n",
    " USA = [\"New York\",\"Chicago\",\"Las Vegas\", \"San Francisco\"]\n",
    " UK = [\"London\", \"Manchester\", \"Liverpool\", \"Nottingham\"]\n",
    "Write a program that asks the user to enter a city name, and it should tell which country the city belongs to\n",
    "\n",
    "Write a program that asks users to enter two cities, and it tells you if they both are in the same country or not />\n",
    "For example:\n",
    "If I enter Mumbai and Chennai, it will print \"Both cities are in India\" but if I enter Mumbai and New York it should print \"They don't belong to the same country\"\n",
    "'''"
   ]
  },
  {
   "cell_type": "code",
   "execution_count": 22,
   "id": "b752d8dc",
   "metadata": {},
   "outputs": [
    {
     "name": "stdout",
     "output_type": "stream",
     "text": [
      "Enter your height in meters: 1.9\n",
      "Enetr you weight in kgs: 95\n",
      "Overweight\n"
     ]
    }
   ],
   "source": [
    "h = float(input(\"Enter your height in meters: \"))\n",
    "w = float(input(\"Enetr you weight in kgs: \"))\n",
    "BMI = w/h**2\n",
    "def check_BMI(BMI):\n",
    "    if BMI>=30:\n",
    "        return \"obesity\"\n",
    "    elif BMI>=25 and BMI<=29:\n",
    "        return \"Overweight\"\n",
    "    elif BMI>=18.5 and BMI<25:\n",
    "        return \"Normal\"\n",
    "    else:\n",
    "        return \"Underweight\"\n",
    "print(check_BMI(BMI))"
   ]
  },
  {
   "cell_type": "code",
   "execution_count": 23,
   "id": "3648dd67",
   "metadata": {},
   "outputs": [],
   "source": [
    "India = [\"Mumbai\", \"Bangalore\", \"Chennai\", \"Delhi\"]\n",
    "USA = [\"New York\",\"Chicago\",\"Las Vegas\", \"San Francisco\"]\n",
    "UK = [\"London\", \"Manchester\", \"Liverpool\", \"Nottingham\"]"
   ]
  },
  {
   "cell_type": "code",
   "execution_count": 28,
   "id": "bd05132b",
   "metadata": {},
   "outputs": [
    {
     "name": "stdout",
     "output_type": "stream",
     "text": [
      "Enter a city name: Liverpool\n",
      "Liverpool is in The UK\n"
     ]
    }
   ],
   "source": [
    "#Write a program that asks the user to enter a city name, and it should tell which country the city belongs to\n",
    "city = input(\"Enter a city name: \")\n",
    "\n",
    "if city in India:\n",
    "    print (f\"{city} is in India\")\n",
    "elif city in USA:\n",
    "    print (f\"{city} is in The USA\")\n",
    "elif city in UK:\n",
    "    print (f\"{city} is in The UK\")\n",
    "else:\n",
    "    print(\"Invalid city entered\")"
   ]
  },
  {
   "cell_type": "code",
   "execution_count": 36,
   "id": "3ab62d9e",
   "metadata": {},
   "outputs": [
    {
     "name": "stdout",
     "output_type": "stream",
     "text": [
      "Enter a city name: Mumbai\n",
      "Enter a city name: New York\n",
      "They don't belong to same country\n"
     ]
    }
   ],
   "source": [
    "#Write a program that asks users to enter two cities, and it tells you if they both are in the same country or not \n",
    "#Write a program that asks the user to enter a city name, and it should tell which country the city belongs to\n",
    "city1 = input(\"Enter a city name: \")\n",
    "city2 = input(\"Enter a city name: \")\n",
    "\n",
    "if city1 in India and city2 in India:\n",
    "    print (f\"Both {city1} and {city2} are in India\")\n",
    "elif city1 in USA and city2 in USA:\n",
    "    print (f\"Both {city1} and {city2} are in The USA\")\n",
    "elif city1 in UK and city2 in UK:\n",
    "    print (f\"Both {city1} and {city2} are in The UK\")\n",
    "else:\n",
    "    print(\"They don't belong to same country\")"
   ]
  },
  {
   "cell_type": "code",
   "execution_count": null,
   "id": "c2df542b",
   "metadata": {},
   "outputs": [],
   "source": []
  }
 ],
 "metadata": {
  "kernelspec": {
   "display_name": "Python 3 (ipykernel)",
   "language": "python",
   "name": "python3"
  },
  "language_info": {
   "codemirror_mode": {
    "name": "ipython",
    "version": 3
   },
   "file_extension": ".py",
   "mimetype": "text/x-python",
   "name": "python",
   "nbconvert_exporter": "python",
   "pygments_lexer": "ipython3",
   "version": "3.10.5"
  }
 },
 "nbformat": 4,
 "nbformat_minor": 5
}
